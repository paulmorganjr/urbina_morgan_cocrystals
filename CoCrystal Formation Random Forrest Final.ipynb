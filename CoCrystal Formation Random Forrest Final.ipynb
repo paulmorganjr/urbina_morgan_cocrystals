{
 "cells": [
  {
   "cell_type": "code",
   "execution_count": 1,
   "metadata": {},
   "outputs": [],
   "source": [
    "import numpy as np\n",
    "import matplotlib.pyplot as plt\n",
    "import sklearn as sk\n",
    "import pandas as pd\n",
    "import seaborn as sns\n",
    "\n",
    "from sklearn.metrics import roc_curve, roc_auc_score"
   ]
  },
  {
   "cell_type": "code",
   "execution_count": 2,
   "metadata": {},
   "outputs": [
    {
     "data": {
      "text/html": [
       "<div>\n",
       "<style scoped>\n",
       "    .dataframe tbody tr th:only-of-type {\n",
       "        vertical-align: middle;\n",
       "    }\n",
       "\n",
       "    .dataframe tbody tr th {\n",
       "        vertical-align: top;\n",
       "    }\n",
       "\n",
       "    .dataframe thead th {\n",
       "        text-align: right;\n",
       "    }\n",
       "</style>\n",
       "<table border=\"1\" class=\"dataframe\">\n",
       "  <thead>\n",
       "    <tr style=\"text-align: right;\">\n",
       "      <th></th>\n",
       "      <th>API</th>\n",
       "      <th>Formula_API</th>\n",
       "      <th>MW_API</th>\n",
       "      <th>LogP_API</th>\n",
       "      <th>AlogP_API</th>\n",
       "      <th>HBA_API</th>\n",
       "      <th>HBD_API</th>\n",
       "      <th>TPSA_API</th>\n",
       "      <th>AMR_API</th>\n",
       "      <th>nRB_API</th>\n",
       "      <th>...</th>\n",
       "      <th>Acidicpka4_Co</th>\n",
       "      <th>Basicpka1_Co</th>\n",
       "      <th>Basicpka2_Co</th>\n",
       "      <th>Basicpka3_Co</th>\n",
       "      <th>Basicpka4_Co</th>\n",
       "      <th>MeltingP_Co</th>\n",
       "      <th>Formation_Binary</th>\n",
       "      <th>Coformer</th>\n",
       "      <th>Formula_Co</th>\n",
       "      <th>Formation</th>\n",
       "    </tr>\n",
       "  </thead>\n",
       "  <tbody>\n",
       "    <tr>\n",
       "      <th>537</th>\n",
       "      <td>Voriconazole</td>\n",
       "      <td>C₁₆H₁₄F₃N₅O</td>\n",
       "      <td>349.316</td>\n",
       "      <td>-1.176</td>\n",
       "      <td>-2.122</td>\n",
       "      <td>6</td>\n",
       "      <td>1</td>\n",
       "      <td>72.91</td>\n",
       "      <td>90.0</td>\n",
       "      <td>5</td>\n",
       "      <td>...</td>\n",
       "      <td>0.0</td>\n",
       "      <td>0.00</td>\n",
       "      <td>0.0</td>\n",
       "      <td>0.0</td>\n",
       "      <td>0</td>\n",
       "      <td>230.0</td>\n",
       "      <td>1</td>\n",
       "      <td>4-(bromomethyl)benzoic acid</td>\n",
       "      <td>C₈H₇BrO₂</td>\n",
       "      <td>CC</td>\n",
       "    </tr>\n",
       "    <tr>\n",
       "      <th>538</th>\n",
       "      <td>Voriconazole</td>\n",
       "      <td>C₁₆H₁₄F₃N₅O</td>\n",
       "      <td>349.316</td>\n",
       "      <td>-1.176</td>\n",
       "      <td>-2.122</td>\n",
       "      <td>6</td>\n",
       "      <td>1</td>\n",
       "      <td>72.91</td>\n",
       "      <td>90.0</td>\n",
       "      <td>5</td>\n",
       "      <td>...</td>\n",
       "      <td>0.0</td>\n",
       "      <td>0.00</td>\n",
       "      <td>0.0</td>\n",
       "      <td>0.0</td>\n",
       "      <td>0</td>\n",
       "      <td>214.5</td>\n",
       "      <td>1</td>\n",
       "      <td>4-hydroxybenzoic acid</td>\n",
       "      <td>C₇H₆O₃</td>\n",
       "      <td>CC</td>\n",
       "    </tr>\n",
       "    <tr>\n",
       "      <th>539</th>\n",
       "      <td>Voriconazole</td>\n",
       "      <td>C₁₆H₁₄F₃N₅O</td>\n",
       "      <td>349.316</td>\n",
       "      <td>-1.176</td>\n",
       "      <td>-2.122</td>\n",
       "      <td>6</td>\n",
       "      <td>1</td>\n",
       "      <td>72.91</td>\n",
       "      <td>90.0</td>\n",
       "      <td>5</td>\n",
       "      <td>...</td>\n",
       "      <td>0.0</td>\n",
       "      <td>0.00</td>\n",
       "      <td>0.0</td>\n",
       "      <td>0.0</td>\n",
       "      <td>0</td>\n",
       "      <td>158.0</td>\n",
       "      <td>1</td>\n",
       "      <td>2-hydroxybenzoic acid/ Salicyclic acid</td>\n",
       "      <td>C₇H₆O₃</td>\n",
       "      <td>CC</td>\n",
       "    </tr>\n",
       "    <tr>\n",
       "      <th>540</th>\n",
       "      <td>Voriconazole</td>\n",
       "      <td>C₁₆H₁₄F₃N₅O</td>\n",
       "      <td>349.316</td>\n",
       "      <td>-1.176</td>\n",
       "      <td>-2.122</td>\n",
       "      <td>6</td>\n",
       "      <td>1</td>\n",
       "      <td>72.91</td>\n",
       "      <td>90.0</td>\n",
       "      <td>5</td>\n",
       "      <td>...</td>\n",
       "      <td>0.0</td>\n",
       "      <td>2.69</td>\n",
       "      <td>0.0</td>\n",
       "      <td>0.0</td>\n",
       "      <td>0</td>\n",
       "      <td>188.5</td>\n",
       "      <td>1</td>\n",
       "      <td>4-aminobenzoic acid</td>\n",
       "      <td>C₇H₇NO₂</td>\n",
       "      <td>CC</td>\n",
       "    </tr>\n",
       "    <tr>\n",
       "      <th>541</th>\n",
       "      <td>Voriconazole</td>\n",
       "      <td>C₁₆H₁₄F₃N₅O</td>\n",
       "      <td>349.316</td>\n",
       "      <td>-1.176</td>\n",
       "      <td>-2.122</td>\n",
       "      <td>6</td>\n",
       "      <td>1</td>\n",
       "      <td>72.91</td>\n",
       "      <td>90.0</td>\n",
       "      <td>5</td>\n",
       "      <td>...</td>\n",
       "      <td>0.0</td>\n",
       "      <td>0.00</td>\n",
       "      <td>0.0</td>\n",
       "      <td>0.0</td>\n",
       "      <td>0</td>\n",
       "      <td>141.0</td>\n",
       "      <td>1</td>\n",
       "      <td>3-nitrobenzoic acid</td>\n",
       "      <td>C₇H₅NO₄</td>\n",
       "      <td>CC</td>\n",
       "    </tr>\n",
       "  </tbody>\n",
       "</table>\n",
       "<p>5 rows × 70 columns</p>\n",
       "</div>"
      ],
      "text/plain": [
       "              API  Formula_API   MW_API  LogP_API  AlogP_API  HBA_API  \\\n",
       "537  Voriconazole  C₁₆H₁₄F₃N₅O  349.316    -1.176     -2.122        6   \n",
       "538  Voriconazole  C₁₆H₁₄F₃N₅O  349.316    -1.176     -2.122        6   \n",
       "539  Voriconazole  C₁₆H₁₄F₃N₅O  349.316    -1.176     -2.122        6   \n",
       "540  Voriconazole  C₁₆H₁₄F₃N₅O  349.316    -1.176     -2.122        6   \n",
       "541  Voriconazole  C₁₆H₁₄F₃N₅O  349.316    -1.176     -2.122        6   \n",
       "\n",
       "     HBD_API  TPSA_API  AMR_API  nRB_API  ...  Acidicpka4_Co  Basicpka1_Co  \\\n",
       "537        1     72.91     90.0        5  ...            0.0          0.00   \n",
       "538        1     72.91     90.0        5  ...            0.0          0.00   \n",
       "539        1     72.91     90.0        5  ...            0.0          0.00   \n",
       "540        1     72.91     90.0        5  ...            0.0          2.69   \n",
       "541        1     72.91     90.0        5  ...            0.0          0.00   \n",
       "\n",
       "     Basicpka2_Co  Basicpka3_Co  Basicpka4_Co  MeltingP_Co  Formation_Binary  \\\n",
       "537           0.0           0.0             0        230.0                 1   \n",
       "538           0.0           0.0             0        214.5                 1   \n",
       "539           0.0           0.0             0        158.0                 1   \n",
       "540           0.0           0.0             0        188.5                 1   \n",
       "541           0.0           0.0             0        141.0                 1   \n",
       "\n",
       "                                   Coformer  Formula_Co  Formation  \n",
       "537             4-(bromomethyl)benzoic acid    C₈H₇BrO₂         CC  \n",
       "538                   4-hydroxybenzoic acid      C₇H₆O₃         CC  \n",
       "539  2-hydroxybenzoic acid/ Salicyclic acid      C₇H₆O₃         CC  \n",
       "540                     4-aminobenzoic acid     C₇H₇NO₂         CC  \n",
       "541                     3-nitrobenzoic acid     C₇H₅NO₄         CC  \n",
       "\n",
       "[5 rows x 70 columns]"
      ]
     },
     "execution_count": 2,
     "metadata": {},
     "output_type": "execute_result"
    }
   ],
   "source": [
    "dataset = pd.read_csv (r'/Volumes/GoogleDrive/My Drive/Spring 2022 Semester 2 MSSM/Python/Alex Thesis/Master_Spreadsheet_ Machine Learning.csv')\n",
    "#print (dataset)\n",
    "dataset.tail()"
   ]
  },
  {
   "cell_type": "code",
   "execution_count": null,
   "metadata": {},
   "outputs": [],
   "source": []
  },
  {
   "cell_type": "code",
   "execution_count": 3,
   "metadata": {},
   "outputs": [],
   "source": [
    "X = dataset[['MW_API','LogP_API','AlogP_API','HBA_API','HBD_API',\n",
    "             \n",
    "    'TPSA_API','AMR_API','nRB_API','nAtom_API','nAcidicGroup_API',\n",
    "             \n",
    "    'RC_API', 'nRigidB_API', 'nAromaticRings_API', 'nHB_API',\n",
    "             \n",
    "    'E_API', 'Eaq_API', 'relE_API', 'relEaq_API', 'EHOMO_API',\n",
    "             \n",
    "    'ELUMO_API', 'Dipole_API', 'SolvationE_API', 'Solubility_API',\n",
    "             \n",
    "    'Acidicpka1_API', 'Acidicpka2_API', 'Acidicpka3_API', 'Acidicpka4_API',\n",
    "             \n",
    "    'Basicpka1_API', 'Basicpka2_API', 'Basicpka3_API', 'Basicpka4_API',\n",
    "             \n",
    "    'MW_Co','LogP_Co', 'AlogP_Co', 'HBA_Co','HBD_Co', 'TPSA_Co',\n",
    "             \n",
    "    'AMR_Co', 'nRB_Co', 'nAtom_Co', 'nAcidicGroup_Co', 'RC_Co',\n",
    "             \n",
    "    'nRigidB_Co', 'nAromaticRing_Co', 'nHB_Co', 'E_Co', 'Eaq_Co',\n",
    "             \n",
    "    'relE_Co', 'relEaq_Co', 'EHOMO_Co', 'ELUMO_Co', 'Dipole_Co',\n",
    "             \n",
    "    'SolvationE_Co', 'Solubility_Co', 'Acidicpka1_Co', 'Acidicpka2_Co',\n",
    "             \n",
    "    'Acidicpka3_Co', 'Acidicpka4_Co', 'Basicpka1_Co', 'Basicpka2_Co', 'Basicpka3_Co', 'Basicpka4_Co']] \n",
    "\n",
    "Y = dataset['Formation_Binary']"
   ]
  },
  {
   "cell_type": "code",
   "execution_count": 4,
   "metadata": {},
   "outputs": [],
   "source": [
    "# Import train_test_split function\n",
    "from sklearn.model_selection import train_test_split\n",
    "\n",
    "\n",
    "# Split dataset into training set and test set\n",
    "X_train, X_test, Y_train, Y_test = train_test_split(X, Y, test_size=0.3) # 70% training and 30% test\n"
   ]
  },
  {
   "cell_type": "code",
   "execution_count": 5,
   "metadata": {},
   "outputs": [],
   "source": [
    "#Import Random Forest Model\n",
    "from sklearn.ensemble import RandomForestClassifier\n",
    "\n",
    "#Create a Gaussian Classifier\n",
    "clf=RandomForestClassifier(n_estimators=100)\n",
    "\n",
    "#Train the model using the training sets y_pred=clf.predict(X_test)\n",
    "clf.fit(X_train,Y_train)\n",
    "\n",
    "Y_pred=clf.predict(X_test)"
   ]
  },
  {
   "cell_type": "code",
   "execution_count": 6,
   "metadata": {},
   "outputs": [
    {
     "name": "stdout",
     "output_type": "stream",
     "text": [
      "Accuracy: 0.8159509202453987\n"
     ]
    }
   ],
   "source": [
    "#Import scikit-learn metrics module for accuracy calculation\n",
    "\n",
    "from sklearn import metrics\n",
    "\n",
    "# Model Accuracy, how often is the classifier correct?\n",
    "\n",
    "print(\"Accuracy:\",metrics.accuracy_score(Y_test, Y_pred))"
   ]
  },
  {
   "cell_type": "code",
   "execution_count": 7,
   "metadata": {},
   "outputs": [],
   "source": [
    "#Feature Importance\n",
    "\n",
    "features_values = clf.feature_importances_"
   ]
  },
  {
   "cell_type": "code",
   "execution_count": 8,
   "metadata": {},
   "outputs": [
    {
     "data": {
      "text/plain": [
       "array([0.01498515, 0.01372867, 0.02430654, 0.0075665 , 0.00857683,\n",
       "       0.01369736, 0.01368056, 0.01002455, 0.04022538, 0.00121138,\n",
       "       0.01252109, 0.01452837, 0.01038096, 0.01545459, 0.01190239,\n",
       "       0.01198092, 0.        , 0.        , 0.03812904, 0.01314515,\n",
       "       0.02449742, 0.01337157, 0.02155632, 0.016646  , 0.00330918,\n",
       "       0.        , 0.        , 0.07262169, 0.00753449, 0.0001332 ,\n",
       "       0.        , 0.02670198, 0.02689951, 0.02221482, 0.02183586,\n",
       "       0.00761726, 0.03343682, 0.03481658, 0.00842625, 0.02368352,\n",
       "       0.00371986, 0.00755396, 0.02055441, 0.0073596 , 0.01413577,\n",
       "       0.03389757, 0.03508579, 0.        , 0.        , 0.03859559,\n",
       "       0.03400865, 0.02656168, 0.02833168, 0.02657328, 0.04571756,\n",
       "       0.00946845, 0.00308127, 0.00060332, 0.01626449, 0.00713918,\n",
       "       0.        , 0.        ])"
      ]
     },
     "execution_count": 8,
     "metadata": {},
     "output_type": "execute_result"
    }
   ],
   "source": [
    "features_values"
   ]
  },
  {
   "cell_type": "code",
   "execution_count": 9,
   "metadata": {},
   "outputs": [],
   "source": [
    "features = ['MW_API','LogP_API','AlogP_API','HBA_API','HBD_API',\n",
    "             \n",
    "    'TPSA_API','AMR_API','nRB_API','nAtom_API','nAcidicGroups_API',\n",
    "             \n",
    "    'RC_API', 'nRigidB_API', 'nAromatic_rings_API', 'nHB_API',\n",
    "             \n",
    "    'E_API', 'Eaq_API', 'relE _API', 'relEaq_API', 'EHOMO_API',\n",
    "             \n",
    "    'ELUMO_API', 'Dipole_API', 'SolvationE_API', 'Solubility_API',\n",
    "             \n",
    "    'Acidicpka1_API', 'Acidicpka2_API', 'Acidicpka3_API', 'Acidicpka4_API',\n",
    "             \n",
    "    'Basicpka1_API', 'Basicpka2_API', 'Basicpka3_API', 'Basicpka4_API',\n",
    "             \n",
    "             \n",
    "    'MW_Co','LogP_Co', 'AlogP_Co', 'HBA_Co','HBD_Co', 'TPSA_Co',\n",
    "             \n",
    "    'AMR_Co', 'nRB_Co', 'nAtom_Co', 'nAcidicGroups_Co', 'RC_Co',\n",
    "             \n",
    "    'nRigidB_Co', 'nAromaticRings_Co', 'nHB_Co', 'E_Co', 'Eaq_Co',\n",
    "             \n",
    "    'relE_Co', 'relEaq_Co', 'EHOMO_Co', 'ELUMO_Co', 'Dipole_Co',\n",
    "             \n",
    "    'SolvationE_Co', 'Solubility_Co', 'Acidicpka1_Co', 'Acidicpka2_Co',\n",
    "             \n",
    "    'Acidicpka3_Co', 'Acidicpka4_Co', 'Basicpka1_Co', 'Basicpka2_Co', 'Basicpka3_Co', 'Basicpka4_Co'] "
   ]
  },
  {
   "cell_type": "code",
   "execution_count": 10,
   "metadata": {},
   "outputs": [],
   "source": [
    "#Flaten 2D array into a 1D Array\n",
    "features_values = features_values.flatten()"
   ]
  },
  {
   "cell_type": "code",
   "execution_count": 11,
   "metadata": {},
   "outputs": [],
   "source": [
    "final_table = [['features'],['features_values']]"
   ]
  },
  {
   "cell_type": "code",
   "execution_count": 12,
   "metadata": {},
   "outputs": [
    {
     "name": "stdout",
     "output_type": "stream",
     "text": [
      "['MW_API', 'LogP_API', 'AlogP_API', 'HBA_API', 'HBD_API', 'TPSA_API', 'AMR_API', 'nRB_API', 'nAtom_API', 'nAcidicGroups_API', 'RC_API', 'nRigidB_API', 'nAromatic_rings_API', 'nHB_API', 'E_API', 'Eaq_API', 'relE _API', 'relEaq_API', 'EHOMO_API', 'ELUMO_API', 'Dipole_API', 'SolvationE_API', 'Solubility_API', 'Acidicpka1_API', 'Acidicpka2_API', 'Acidicpka3_API', 'Acidicpka4_API', 'Basicpka1_API', 'Basicpka2_API', 'Basicpka3_API', 'Basicpka4_API', 'MW_Co', 'LogP_Co', 'AlogP_Co', 'HBA_Co', 'HBD_Co', 'TPSA_Co', 'AMR_Co', 'nRB_Co', 'nAtom_Co', 'nAcidicGroups_Co', 'RC_Co', 'nRigidB_Co', 'nAromaticRings_Co', 'nHB_Co', 'E_Co', 'Eaq_Co', 'relE_Co', 'relEaq_Co', 'EHOMO_Co', 'ELUMO_Co', 'Dipole_Co', 'SolvationE_Co', 'Solubility_Co', 'Acidicpka1_Co', 'Acidicpka2_Co', 'Acidicpka3_Co', 'Acidicpka4_Co', 'Basicpka1_Co', 'Basicpka2_Co', 'Basicpka3_Co', 'Basicpka4_Co']\n",
      "[0.01498515 0.01372867 0.02430654 0.0075665  0.00857683 0.01369736\n",
      " 0.01368056 0.01002455 0.04022538 0.00121138 0.01252109 0.01452837\n",
      " 0.01038096 0.01545459 0.01190239 0.01198092 0.         0.\n",
      " 0.03812904 0.01314515 0.02449742 0.01337157 0.02155632 0.016646\n",
      " 0.00330918 0.         0.         0.07262169 0.00753449 0.0001332\n",
      " 0.         0.02670198 0.02689951 0.02221482 0.02183586 0.00761726\n",
      " 0.03343682 0.03481658 0.00842625 0.02368352 0.00371986 0.00755396\n",
      " 0.02055441 0.0073596  0.01413577 0.03389757 0.03508579 0.\n",
      " 0.         0.03859559 0.03400865 0.02656168 0.02833168 0.02657328\n",
      " 0.04571756 0.00946845 0.00308127 0.00060332 0.01626449 0.00713918\n",
      " 0.         0.        ]\n"
     ]
    },
    {
     "data": {
      "text/plain": [
       "<BarContainer object of 62 artists>"
      ]
     },
     "execution_count": 12,
     "metadata": {},
     "output_type": "execute_result"
    },
    {
     "data": {
      "image/png": "[encoded data removed]",
      "text/plain": [
       "<Figure size 360x1440 with 1 Axes>"
      ]
     },
     "metadata": {
      "needs_background": "light"
     },
     "output_type": "display_data"
    }
   ],
   "source": [
    "print(features)\n",
    "print(features_values)\n",
    "\n",
    "# Plot features and coeffficient weightings\n",
    "plt.figure(figsize=(5, 20))\n",
    "plt.barh(features,features_values)\n",
    "\n",
    "\n",
    "#plt.savefig('Random_Features.png', dpi=600)"
   ]
  },
  {
   "cell_type": "code",
   "execution_count": 13,
   "metadata": {},
   "outputs": [],
   "source": [
    "from sklearn.metrics import confusion_matrix,  ConfusionMatrixDisplay"
   ]
  },
  {
   "cell_type": "code",
   "execution_count": 14,
   "metadata": {},
   "outputs": [
    {
     "data": {
      "image/png": "[encoded data removed]",
      "text/plain": [
       "<Figure size 432x288 with 2 Axes>"
      ]
     },
     "metadata": {
      "needs_background": "light"
     },
     "output_type": "display_data"
    }
   ],
   "source": [
    "confusion_matrix(Y_test, Y_pred)\n",
    "cm = confusion_matrix(Y_test, Y_pred)\n",
    "disp = ConfusionMatrixDisplay(confusion_matrix=cm)\n",
    "disp.plot()\n",
    "plt.show()\n",
    "\n",
    "#plt.savefig('condusion_matrix.png', dpi=600)"
   ]
  },
  {
   "cell_type": "code",
   "execution_count": 15,
   "metadata": {},
   "outputs": [],
   "source": [
    "#ROC Curves\n",
    "\n",
    "r_probs = [0 for _ in range(len(Y_test))]\n",
    "rf_probs = clf.predict_proba(X_test)\n"
   ]
  },
  {
   "cell_type": "code",
   "execution_count": 16,
   "metadata": {},
   "outputs": [],
   "source": [
    "rf_probs = rf_probs[:, 1]"
   ]
  },
  {
   "cell_type": "code",
   "execution_count": 17,
   "metadata": {},
   "outputs": [],
   "source": [
    "r_auc = roc_auc_score(Y_test, r_probs)\n",
    "rf_auc = roc_auc_score(Y_test, rf_probs)"
   ]
  },
  {
   "cell_type": "code",
   "execution_count": 18,
   "metadata": {},
   "outputs": [
    {
     "name": "stdout",
     "output_type": "stream",
     "text": [
      "Random (chance) Prediction: AUROC = 0.500\n",
      "Random Forest: AUROC = 0.872\n"
     ]
    }
   ],
   "source": [
    "print('Random (chance) Prediction: AUROC = %.3f' % (r_auc))\n",
    "print('Random Forest: AUROC = %.3f' % (rf_auc))"
   ]
  },
  {
   "cell_type": "code",
   "execution_count": 19,
   "metadata": {},
   "outputs": [],
   "source": [
    "r_fpr, r_tpr, _ = roc_curve(Y_test, r_probs)\n",
    "rf_fpr, rf_tpr, _ = roc_curve(Y_test, rf_probs)"
   ]
  },
  {
   "cell_type": "code",
   "execution_count": 20,
   "metadata": {},
   "outputs": [
    {
     "data": {
      "image/png": "[encoded data removed]",
      "text/plain": [
       "<Figure size 800x640 with 1 Axes>"
      ]
     },
     "metadata": {
      "needs_background": "light"
     },
     "output_type": "display_data"
    }
   ],
   "source": [
    "plt.figure(figsize=(10, 8), dpi=80)\n",
    "\n",
    "plt.plot(r_fpr, r_tpr, linestyle='--', label='Random prediction (AUROC = %0.3f)' % r_auc)\n",
    "plt.plot(rf_fpr, rf_tpr, marker='.', label='Random Forest (AUROC = %0.3f)' % rf_auc)\n",
    "\n",
    "\n",
    "\n",
    "# Title\n",
    "plt.title('ROC Plot')\n",
    "# Axis labels\n",
    "plt.xlabel('False Positive Rate')\n",
    "plt.ylabel('True Positive Rate')\n",
    "# Show legend\n",
    "plt.legend() # \n",
    "# Show plot\n",
    "plt.show()\n",
    "\n",
    "#plt.savefig('ROC_CoCrystal_Formation_Random_Forrest.png', dpi=600)"
   ]
  },
  {
   "cell_type": "code",
   "execution_count": null,
   "metadata": {},
   "outputs": [],
   "source": []
  },
  {
   "cell_type": "code",
   "execution_count": null,
   "metadata": {},
   "outputs": [],
   "source": []
  },
  {
   "cell_type": "code",
   "execution_count": null,
   "metadata": {},
   "outputs": [],
   "source": []
  },
  {
   "cell_type": "code",
   "execution_count": null,
   "metadata": {},
   "outputs": [],
   "source": []
  },
  {
   "cell_type": "code",
   "execution_count": null,
   "metadata": {},
   "outputs": [],
   "source": []
  },
  {
   "cell_type": "code",
   "execution_count": null,
   "metadata": {},
   "outputs": [],
   "source": []
  },
  {
   "cell_type": "code",
   "execution_count": null,
   "metadata": {},
   "outputs": [],
   "source": []
  },
  {
   "cell_type": "code",
   "execution_count": null,
   "metadata": {},
   "outputs": [],
   "source": []
  },
  {
   "cell_type": "code",
   "execution_count": null,
   "metadata": {},
   "outputs": [],
   "source": []
  },
  {
   "cell_type": "code",
   "execution_count": null,
   "metadata": {},
   "outputs": [],
   "source": []
  },
  {
   "cell_type": "code",
   "execution_count": null,
   "metadata": {},
   "outputs": [],
   "source": []
  },
  {
   "cell_type": "code",
   "execution_count": null,
   "metadata": {},
   "outputs": [],
   "source": []
  },
  {
   "cell_type": "code",
   "execution_count": null,
   "metadata": {},
   "outputs": [],
   "source": []
  },
  {
   "cell_type": "code",
   "execution_count": null,
   "metadata": {},
   "outputs": [],
   "source": []
  },
  {
   "cell_type": "code",
   "execution_count": null,
   "metadata": {},
   "outputs": [],
   "source": []
  },
  {
   "cell_type": "code",
   "execution_count": null,
   "metadata": {},
   "outputs": [],
   "source": []
  },
  {
   "cell_type": "code",
   "execution_count": null,
   "metadata": {},
   "outputs": [],
   "source": []
  },
  {
   "cell_type": "code",
   "execution_count": null,
   "metadata": {},
   "outputs": [],
   "source": []
  },
  {
   "cell_type": "code",
   "execution_count": null,
   "metadata": {},
   "outputs": [],
   "source": []
  },
  {
   "cell_type": "code",
   "execution_count": null,
   "metadata": {},
   "outputs": [],
   "source": []
  },
  {
   "cell_type": "code",
   "execution_count": null,
   "metadata": {},
   "outputs": [],
   "source": []
  },
  {
   "cell_type": "code",
   "execution_count": null,
   "metadata": {},
   "outputs": [],
   "source": []
  },
  {
   "cell_type": "code",
   "execution_count": null,
   "metadata": {},
   "outputs": [],
   "source": []
  },
  {
   "cell_type": "code",
   "execution_count": null,
   "metadata": {},
   "outputs": [],
   "source": []
  },
  {
   "cell_type": "code",
   "execution_count": null,
   "metadata": {},
   "outputs": [],
   "source": []
  },
  {
   "cell_type": "code",
   "execution_count": null,
   "metadata": {},
   "outputs": [],
   "source": []
  },
  {
   "cell_type": "code",
   "execution_count": null,
   "metadata": {},
   "outputs": [],
   "source": []
  },
  {
   "cell_type": "code",
   "execution_count": null,
   "metadata": {},
   "outputs": [],
   "source": []
  },
  {
   "cell_type": "code",
   "execution_count": null,
   "metadata": {},
   "outputs": [],
   "source": []
  },
  {
   "cell_type": "code",
   "execution_count": null,
   "metadata": {},
   "outputs": [],
   "source": []
  },
  {
   "cell_type": "code",
   "execution_count": null,
   "metadata": {},
   "outputs": [],
   "source": []
  },
  {
   "cell_type": "code",
   "execution_count": null,
   "metadata": {},
   "outputs": [],
   "source": []
  },
  {
   "cell_type": "code",
   "execution_count": null,
   "metadata": {},
   "outputs": [],
   "source": []
  },
  {
   "cell_type": "code",
   "execution_count": null,
   "metadata": {},
   "outputs": [],
   "source": []
  },
  {
   "cell_type": "code",
   "execution_count": null,
   "metadata": {},
   "outputs": [],
   "source": []
  },
  {
   "cell_type": "code",
   "execution_count": null,
   "metadata": {},
   "outputs": [],
   "source": []
  },
  {
   "cell_type": "code",
   "execution_count": null,
   "metadata": {},
   "outputs": [],
   "source": []
  },
  {
   "cell_type": "code",
   "execution_count": null,
   "metadata": {},
   "outputs": [],
   "source": []
  },
  {
   "cell_type": "code",
   "execution_count": null,
   "metadata": {},
   "outputs": [],
   "source": []
  },
  {
   "cell_type": "code",
   "execution_count": null,
   "metadata": {},
   "outputs": [],
   "source": []
  },
  {
   "cell_type": "code",
   "execution_count": null,
   "metadata": {},
   "outputs": [],
   "source": []
  },
  {
   "cell_type": "code",
   "execution_count": null,
   "metadata": {},
   "outputs": [],
   "source": [
    "\n"
   ]
  },
  {
   "cell_type": "code",
   "execution_count": null,
   "metadata": {},
   "outputs": [],
   "source": []
  },
  {
   "cell_type": "code",
   "execution_count": null,
   "metadata": {},
   "outputs": [],
   "source": []
  },
  {
   "cell_type": "code",
   "execution_count": null,
   "metadata": {},
   "outputs": [],
   "source": []
  },
  {
   "cell_type": "code",
   "execution_count": null,
   "metadata": {},
   "outputs": [],
   "source": []
  },
  {
   "cell_type": "code",
   "execution_count": null,
   "metadata": {},
   "outputs": [],
   "source": []
  },
  {
   "cell_type": "code",
   "execution_count": null,
   "metadata": {},
   "outputs": [],
   "source": []
  }
 ],
 "metadata": {
  "kernelspec": {
   "display_name": "Python 3 (ipykernel)",
   "language": "python",
   "name": "python3"
  },
  "language_info": {
   "codemirror_mode": {
    "name": "ipython",
    "version": 3
   },
   "file_extension": ".py",
   "mimetype": "text/x-python",
   "name": "python",
   "nbconvert_exporter": "python",
   "pygments_lexer": "ipython3",
   "version": "3.9.7"
  }
 },
 "nbformat": 4,
 "nbformat_minor": 4
}
